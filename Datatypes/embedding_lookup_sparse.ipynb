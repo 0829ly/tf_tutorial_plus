{
 "cells": [
  {
   "cell_type": "markdown",
   "metadata": {},
   "source": [
    "Reference: https://github.com/tensorflow/tensorflow/issues/342"
   ]
  },
  {
   "cell_type": "code",
   "execution_count": 1,
   "metadata": {
    "collapsed": true
   },
   "outputs": [],
   "source": [
    "import tensorflow as tf\n",
    "import numpy as np\n",
    "from pprint import pprint"
   ]
  },
  {
   "cell_type": "markdown",
   "metadata": {},
   "source": [
    "#### A naive lookup table"
   ]
  },
  {
   "cell_type": "code",
   "execution_count": 2,
   "metadata": {
    "scrolled": true
   },
   "outputs": [
    {
     "data": {
      "text/plain": [
       "array([[ 1.],\n",
       "       [ 1.],\n",
       "       [ 1.],\n",
       "       [ 1.],\n",
       "       [ 1.],\n",
       "       [ 1.],\n",
       "       [ 1.],\n",
       "       [ 1.],\n",
       "       [ 1.],\n",
       "       [ 1.]], dtype=float32)"
      ]
     },
     "execution_count": 2,
     "metadata": {},
     "output_type": "execute_result"
    }
   ],
   "source": [
    "# 1st lookup table\n",
    "x_ones = np.ones(shape=(10,1), dtype=np.float32)\n",
    "\n",
    "# 2nd lookup table (Check the difference below!)\n",
    "x_one_to_nine = np.array([[0], [1], [2], [3], [4], [5], [6], [7], [8], [9]], dtype=np.float32)\n",
    "\n",
    "x_ones"
   ]
  },
  {
   "cell_type": "code",
   "execution_count": 3,
   "metadata": {
    "collapsed": true
   },
   "outputs": [],
   "source": [
    "sp_indices = tf.placeholder(tf.int64)\n",
    "sp_shape = tf.placeholder(tf.int64)\n",
    "sp_ids_val = tf.placeholder(tf.int64)\n",
    "sp_weights_val = tf.placeholder(tf.float32)"
   ]
  },
  {
   "cell_type": "markdown",
   "metadata": {},
   "source": [
    "#### `tf.nn.embedding_lookup_sparse` is very similar to `tf.nn.embedding_lookup`\n",
    "#### The only difference is it requires `tf.SparseTensor`s rather than `tf.Tensor`s"
   ]
  },
  {
   "cell_type": "code",
   "execution_count": 4,
   "metadata": {
    "collapsed": true
   },
   "outputs": [],
   "source": [
    "sp_ids = tf.SparseTensor(sp_indices, sp_ids_val, sp_shape)\n",
    "sp_weights = tf.SparseTensor(sp_indices, sp_weights_val, sp_shape)"
   ]
  },
  {
   "cell_type": "code",
   "execution_count": 5,
   "metadata": {},
   "outputs": [],
   "source": [
    "X = tf.placeholder(tf.float32, [10, 1])\n",
    "y = tf.nn.embedding_lookup_sparse(X, sp_ids, sp_weights, combiner='sum')"
   ]
  },
  {
   "cell_type": "code",
   "execution_count": 6,
   "metadata": {
    "collapsed": true
   },
   "outputs": [],
   "source": [
    "sess = tf.Session()\n",
    "sess.run(tf.global_variables_initializer())"
   ]
  },
  {
   "cell_type": "code",
   "execution_count": 7,
   "metadata": {
    "scrolled": false
   },
   "outputs": [
    {
     "name": "stdout",
     "output_type": "stream",
     "text": [
      "[array([[ 5.],\n",
      "       [ 8.]], dtype=float32),\n",
      " array([[2, 5, 8],\n",
      "       [3, 4, 0]]),\n",
      " array([[ 1. ,  1.5,  2.5],\n",
      "       [ 3.5,  4.5,  0. ]], dtype=float32)]\n"
     ]
    }
   ],
   "source": [
    "y_values = sess.run(\n",
    "    [y,\n",
    "     tf.sparse_tensor_to_dense(sp_ids),\n",
    "     tf.sparse_tensor_to_dense(sp_weights)],\n",
    "    feed_dict={X: x_ones,\n",
    "               sp_indices: [[0, 0], [0, 1], [0, 2], [1, 0], [1, 1]], # 3 entries in minibatch entry 0, 2 entries in entry 1.\n",
    "               sp_shape: [2, 3], # batch size: 2, max index: 2 (so index count == 3)\n",
    "               sp_ids_val: [2, 5, 8, 3, 4],\n",
    "               sp_weights_val: [1.0, 1.5, 2.5, 3.5, 4.5]})\n",
    "\n",
    "pprint(y_values)"
   ]
  },
  {
   "cell_type": "code",
   "execution_count": 8,
   "metadata": {
    "scrolled": true
   },
   "outputs": [
    {
     "name": "stdout",
     "output_type": "stream",
     "text": [
      "[array([[ 29.5],\n",
      "       [ 28.5]], dtype=float32),\n",
      " array([[2, 5, 8],\n",
      "       [3, 4, 0]]),\n",
      " array([[ 1. ,  1.5,  2.5],\n",
      "       [ 3.5,  4.5,  0. ]], dtype=float32)]\n"
     ]
    }
   ],
   "source": [
    "y_values = sess.run(\n",
    "    [y,\n",
    "     tf.sparse_tensor_to_dense(sp_ids),\n",
    "     tf.sparse_tensor_to_dense(sp_weights)],\n",
    "    feed_dict={X: x_one_to_nine,\n",
    "               sp_indices: [[0, 0], [0, 1], [0, 2], [1, 0], [1, 1]], # 3 entries in minibatch entry 0, 2 entries in entry 1.\n",
    "               sp_shape: [2, 3], # batch size: 2, max index: 2 (so index count == 3)\n",
    "               sp_ids_val: [2, 5, 8, 3, 4],\n",
    "               sp_weights_val: [1.0, 1.5, 2.5, 3.5, 4.5]})\n",
    "\n",
    "pprint(y_values)"
   ]
  }
 ],
 "metadata": {
  "anaconda-cloud": {},
  "kernelspec": {
   "display_name": "Python [conda env:mldemo]",
   "language": "python",
   "name": "conda-env-mldemo-py"
  },
  "language_info": {
   "codemirror_mode": {
    "name": "ipython",
    "version": 3
   },
   "file_extension": ".py",
   "mimetype": "text/x-python",
   "name": "python",
   "nbconvert_exporter": "python",
   "pygments_lexer": "ipython3",
   "version": "3.6.0"
  }
 },
 "nbformat": 4,
 "nbformat_minor": 2
}
