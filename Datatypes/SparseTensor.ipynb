{
 "cells": [
  {
   "cell_type": "code",
   "execution_count": 1,
   "metadata": {
    "collapsed": true
   },
   "outputs": [],
   "source": [
    "import tensorflow as tf\n",
    "import numpy as np"
   ]
  },
  {
   "cell_type": "code",
   "execution_count": 2,
   "metadata": {},
   "outputs": [
    {
     "data": {
      "text/plain": [
       "(14, 14)"
      ]
     },
     "execution_count": 2,
     "metadata": {},
     "output_type": "execute_result"
    }
   ],
   "source": [
    "x = np.array([[0,0,0,0,0,0,0,0,0,0,0,0,0,1],\n",
    "              [0,0,0,0,0,0,0,0,0,0,0,0,1,0],\n",
    "              [0,0,0,0,0,0,0,0,0,0,0,1,0,0],\n",
    "              [0,0,0,0,0,0,0,0,0,0,1,0,0,0],\n",
    "              [0,0,0,0,0,0,0,0,0,1,0,0,0,0],\n",
    "              [0,0,0,0,0,0,0,0,1,0,0,0,0,0],\n",
    "              [0,0,0,0,0,0,0,1,0,0,0,0,0,0],\n",
    "              [0,0,0,0,0,0,1,0,0,0,0,0,0,0],\n",
    "              [0,0,0,0,0,1,0,0,0,0,0,0,0,0],\n",
    "              [0,0,0,0,1,0,0,0,0,0,0,0,0,0],\n",
    "              [0,0,0,1,0,0,0,0,0,0,0,0,0,0],\n",
    "              [0,0,1,0,0,0,0,0,0,0,0,0,0,0],\n",
    "              [0,1,0,0,0,0,0,0,0,0,0,0,0,0],\n",
    "              [1,0,0,0,0,0,0,0,0,0,0,0,0,0]])\n",
    "x.shape"
   ]
  },
  {
   "cell_type": "markdown",
   "metadata": {},
   "source": [
    "#### There might be efficient way to store this tensor.\n",
    "#### Human can visualize this matrix by simply drawing a line from its top right to bottom left on a empty square.\n",
    "#### What you want to focus is the 'useful' information, not the padded zeros.\n",
    "\n",
    "#### `tf.SparseTensor` is very useful expecially when you use sparse embeddings (ex. one-hot encoding)\n",
    "#### To utilize `tf.SparseTensor`, you need to know\n",
    "- indices: where they are stored\n",
    "- values: what values are stored\n",
    "- shape: the shape of the original tensor.\n",
    "- The values of the untracked indices will have predefiend value (zero)"
   ]
  },
  {
   "cell_type": "code",
   "execution_count": 3,
   "metadata": {},
   "outputs": [
    {
     "data": {
      "text/plain": [
       "[[0, 13],\n",
       " [1, 12],\n",
       " [2, 11],\n",
       " [3, 10],\n",
       " [4, 9],\n",
       " [5, 8],\n",
       " [6, 7],\n",
       " [7, 6],\n",
       " [8, 5],\n",
       " [9, 4],\n",
       " [10, 3],\n",
       " [11, 2],\n",
       " [12, 1],\n",
       " [13, 0]]"
      ]
     },
     "execution_count": 3,
     "metadata": {},
     "output_type": "execute_result"
    }
   ],
   "source": [
    "# where '1's are stored.\n",
    "x_indices = [[row_i, np.argmax(row)] for row_i, row in enumerate(x)]\n",
    "x_indices"
   ]
  },
  {
   "cell_type": "code",
   "execution_count": 4,
   "metadata": {},
   "outputs": [
    {
     "data": {
      "text/plain": [
       "[1, 1, 1, 1, 1, 1, 1, 1, 1, 1, 1, 1, 1, 1]"
      ]
     },
     "execution_count": 4,
     "metadata": {},
     "output_type": "execute_result"
    }
   ],
   "source": [
    "# what values are stored\n",
    "x_values = [1]*14\n",
    "x_values"
   ]
  },
  {
   "cell_type": "code",
   "execution_count": 5,
   "metadata": {},
   "outputs": [],
   "source": [
    "x_sparse = tf.SparseTensor(\n",
    "    indices=x_indices,\n",
    "    values=x_values,\n",
    "    dense_shape=x.shape)"
   ]
  },
  {
   "cell_type": "markdown",
   "metadata": {},
   "source": [
    "#### `SparseTensor` outputs `SparseTensorValue`, which can be transformed into original dense tensor."
   ]
  },
  {
   "cell_type": "code",
   "execution_count": 6,
   "metadata": {},
   "outputs": [
    {
     "data": {
      "text/plain": [
       "<tensorflow.python.client.session.InteractiveSession at 0x116f29da0>"
      ]
     },
     "execution_count": 6,
     "metadata": {},
     "output_type": "execute_result"
    }
   ],
   "source": [
    "tf.InteractiveSession()"
   ]
  },
  {
   "cell_type": "code",
   "execution_count": 7,
   "metadata": {
    "scrolled": true
   },
   "outputs": [
    {
     "data": {
      "text/plain": [
       "array([[0, 0, 0, 0, 0, 0, 0, 0, 0, 0, 0, 0, 0, 1],\n",
       "       [0, 0, 0, 0, 0, 0, 0, 0, 0, 0, 0, 0, 1, 0],\n",
       "       [0, 0, 0, 0, 0, 0, 0, 0, 0, 0, 0, 1, 0, 0],\n",
       "       [0, 0, 0, 0, 0, 0, 0, 0, 0, 0, 1, 0, 0, 0],\n",
       "       [0, 0, 0, 0, 0, 0, 0, 0, 0, 1, 0, 0, 0, 0],\n",
       "       [0, 0, 0, 0, 0, 0, 0, 0, 1, 0, 0, 0, 0, 0],\n",
       "       [0, 0, 0, 0, 0, 0, 0, 1, 0, 0, 0, 0, 0, 0],\n",
       "       [0, 0, 0, 0, 0, 0, 1, 0, 0, 0, 0, 0, 0, 0],\n",
       "       [0, 0, 0, 0, 0, 1, 0, 0, 0, 0, 0, 0, 0, 0],\n",
       "       [0, 0, 0, 0, 1, 0, 0, 0, 0, 0, 0, 0, 0, 0],\n",
       "       [0, 0, 0, 1, 0, 0, 0, 0, 0, 0, 0, 0, 0, 0],\n",
       "       [0, 0, 1, 0, 0, 0, 0, 0, 0, 0, 0, 0, 0, 0],\n",
       "       [0, 1, 0, 0, 0, 0, 0, 0, 0, 0, 0, 0, 0, 0],\n",
       "       [1, 0, 0, 0, 0, 0, 0, 0, 0, 0, 0, 0, 0, 0]], dtype=int32)"
      ]
     },
     "execution_count": 7,
     "metadata": {},
     "output_type": "execute_result"
    }
   ],
   "source": [
    "tf.sparse_tensor_to_dense(x_sparse).eval()"
   ]
  },
  {
   "cell_type": "code",
   "execution_count": 8,
   "metadata": {
    "scrolled": false
   },
   "outputs": [
    {
     "data": {
      "text/plain": [
       "SparseTensorValue(indices=array([[ 0, 13],\n",
       "       [ 1, 12],\n",
       "       [ 2, 11],\n",
       "       [ 3, 10],\n",
       "       [ 4,  9],\n",
       "       [ 5,  8],\n",
       "       [ 6,  7],\n",
       "       [ 7,  6],\n",
       "       [ 8,  5],\n",
       "       [ 9,  4],\n",
       "       [10,  3],\n",
       "       [11,  2],\n",
       "       [12,  1],\n",
       "       [13,  0]]), values=array([1, 1, 1, 1, 1, 1, 1, 1, 1, 1, 1, 1, 1, 1], dtype=int32), dense_shape=array([14, 14]))"
      ]
     },
     "execution_count": 8,
     "metadata": {},
     "output_type": "execute_result"
    }
   ],
   "source": [
    "x_sparse.eval()"
   ]
  },
  {
   "cell_type": "code",
   "execution_count": 9,
   "metadata": {
    "scrolled": false
   },
   "outputs": [
    {
     "data": {
      "text/plain": [
       "True"
      ]
     },
     "execution_count": 9,
     "metadata": {},
     "output_type": "execute_result"
    }
   ],
   "source": [
    "np.all(x == tf.sparse_tensor_to_dense(x_sparse).eval())"
   ]
  }
 ],
 "metadata": {
  "anaconda-cloud": {},
  "kernelspec": {
   "display_name": "Python [conda env:mldemo]",
   "language": "python",
   "name": "conda-env-mldemo-py"
  },
  "language_info": {
   "codemirror_mode": {
    "name": "ipython",
    "version": 3
   },
   "file_extension": ".py",
   "mimetype": "text/x-python",
   "name": "python",
   "nbconvert_exporter": "python",
   "pygments_lexer": "ipython3",
   "version": "3.6.0"
  }
 },
 "nbformat": 4,
 "nbformat_minor": 2
}
